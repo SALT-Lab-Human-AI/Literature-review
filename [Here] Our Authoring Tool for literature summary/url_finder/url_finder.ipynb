{
 "cells": [
  {
   "cell_type": "code",
   "execution_count": 9,
   "metadata": {},
   "outputs": [
    {
     "name": "stdout",
     "output_type": "stream",
     "text": [
      "https://www.mdpi.com/2076-3417/11/19/9160\n"
     ]
    }
   ],
   "source": [
    "from scholarly import scholarly\n",
    "\n",
    "\n",
    "def get_paper_url(title):\n",
    "    search_query = scholarly.search_pubs(title)\n",
    "    paper = next(search_query, None)\n",
    "    if paper:\n",
    "        # return paper[\"bib\"].get('title')\n",
    "        return paper[\"pub_url\"]\n",
    "    else:\n",
    "        return None\n",
    "\n",
    "# Example usage:\n",
    "title = \"Graph-Based Conversational AI:\"\n",
    "url = get_paper_url(title)\n",
    "print(url)"
   ]
  }
 ],
 "metadata": {
  "kernelspec": {
   "display_name": "Python 3",
   "language": "python",
   "name": "python3"
  },
  "language_info": {
   "codemirror_mode": {
    "name": "ipython",
    "version": 3
   },
   "file_extension": ".py",
   "mimetype": "text/x-python",
   "name": "python",
   "nbconvert_exporter": "python",
   "pygments_lexer": "ipython3",
   "version": "3.10.8"
  }
 },
 "nbformat": 4,
 "nbformat_minor": 2
}
